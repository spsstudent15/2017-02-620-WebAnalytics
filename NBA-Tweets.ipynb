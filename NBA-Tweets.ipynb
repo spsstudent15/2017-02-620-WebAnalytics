{
 "cells": [
  {
   "cell_type": "markdown",
   "metadata": {},
   "source": [
    "## NBA Tweets: Natural Language Processing and Network Analysis\n",
    "\n",
    "MSDA Data 620 Final Project \n",
    "\n",
    "Team 4 - John Grando, Nick Capofari, Ken Markus, Armenoush Aslanian-Persico, Andrew Goldberg\n",
    "\n"
   ]
  },
  {
   "cell_type": "code",
   "execution_count": 24,
   "metadata": {
    "collapsed": false
   },
   "outputs": [
    {
     "data": {
      "text/html": [
       "<img src=\"https://raw.githubusercontent.com/spsstudent15/2017-02-620-WebAnalytics/master/nbalogo2.jpg\"/>"
      ],
      "text/plain": [
       "<IPython.core.display.Image object>"
      ]
     },
     "execution_count": 24,
     "metadata": {},
     "output_type": "execute_result"
    }
   ],
   "source": [
    "from IPython.display import Image\n",
    "from IPython.core.display import HTML \n",
    "Image(url= \"https://raw.githubusercontent.com/spsstudent15/2017-02-620-WebAnalytics/master/nbalogo2.jpg\")"
   ]
  },
  {
   "cell_type": "markdown",
   "metadata": {},
   "source": [
    "### Part 1: Introduction\n",
    "\n",
    "The NBA has among the most active social media users in the world of professional sports. Players often interact directly with their fans via Twitter, and interact with one another as well. Our analysis pulled tweets from the most active current players on Twitter (identified from fanpagelist.com) and we added a few additional handles of the most active former players, coaches and owners within the NBA network.\n",
    "\n",
    "We expect to see players associated with a particular team to interact more frequently, and connect with their own team handles especially. We also expect the networks to still resemble typical ‘broadcast’ type structures in that networks in general will be sparse.\n",
    "\n",
    "Please note that the data was pulled during the offseason (between July 12 and July 17), so activity is relatively low. An interesting follow-up would be to re-run the data pulls and code during playoffs for the regular season and compare the results.\n",
    "\n",
    "\n",
    "<b>YouTube walkthroughs of project sections are available here:</b>\n",
    "\n",
    "Data acquisition: https://youtu.be/onedOIidyU0\n",
    "\n",
    "Natural Language Processing: https://youtu.be/U8qpdvMX3RM\n",
    "\n",
    "Network Analysis:"
   ]
  },
  {
   "cell_type": "markdown",
   "metadata": {},
   "source": [
    "### Part 2: Data Acquisition\n",
    "\n",
    "\n",
    "<a href=\"https://github.com/kennygfm/Data620/blob/master/Team4_FinalProject_buildTwitterDataFrame_V7.9.R\">Click here to view the code for this data pull on GitHub.</a>\n",
    "\n",
    "\n",
    "We collected recent tweets from the most active NBA players (and associates) via the Twitter Search API. The API allows for basic search queries (e.g. to: or from: a specific handle, or containing a specific hashtag). However, there are certain limitations with the public-facing API:\n",
    "\n",
    "-Results are limited to the last 7 days\n",
    "\n",
    "-Return sets are limited in size, the documentation states only 7 tweets are returned in each query; however in practice we were able to pull upwards of 50 tweets per query.\n",
    "\n",
    "An alternative to Twitter’s Search API is their Streaming API, which returns real-time results. We attempted to leverage this option, however the result sets were actually smaller because the players and associates were simply not active enough on Twitter to yield more results.\n",
    "\n",
    "Once tokens were acquired, performing the data pulls proved relatively simple. We leveraged package SocialMediaLab to facilitate the formatting of the data. This package contains wrappers for Facebook and Instagram APIs in addition to Twitter. The encapsulation of credentials, and formatting of tweet data are the primary benefits.\n",
    "\n",
    "The output data derives from the twitteR package, of the status-class class.\n",
    "\n",
    "#### Field data dictionary\n",
    "\n",
    "The below are variable fields available in the API pull data.\n",
    "\n",
    "| Variable        | Definition           |\n",
    "| :------------- |:-------------:| \n",
    "| text      | The text of the status. | \n",
    "| screenName      | Screenname of the user who posted the status. |\n",
    "| created | When this status was created. |\n",
    "| favorited | Whether this status has been favorited. |\n",
    "| id | ID of the status. |\n",
    "| replyToSN | Screen name of the user this is in reply to. |\n",
    "| replyTOUID | ID of the user this was in reply to. |\n",
    "| retweetCount | The number of times this status has been retweeeted. |\n",
    "| retweeted | TRUE if this status has been retweeted. |\n",
    "| statusSource | Source user agent for this tweet. |\n",
    "| truncated | Whether this status was truncated. |\n",
    "\n"
   ]
  },
  {
   "cell_type": "markdown",
   "metadata": {},
   "source": [
    "#### Data Setup and Packages"
   ]
  },
  {
   "cell_type": "markdown",
   "metadata": {},
   "source": [
    "We imported the following packages for use in this project."
   ]
  },
  {
   "cell_type": "code",
   "execution_count": 3,
   "metadata": {
    "collapsed": true
   },
   "outputs": [],
   "source": [
    "import networkx as nx\n",
    "import networkx.algorithms\n",
    "import networkx.algorithms.bipartite as bipartite\n",
    "import matplotlib.pyplot as plt\n",
    "import numpy\n",
    "import pandas as pd\n",
    "import pylab as py\n",
    "import nltk\n",
    "import random\n",
    "\n",
    "from networkx.algorithms.components.connected import connected_components\n",
    "from scipy.spatial import distance\n",
    "from scipy.cluster import hierarchy\n",
    "from collections import defaultdict\n",
    "\n",
    "% matplotlib inline"
   ]
  },
  {
   "cell_type": "markdown",
   "metadata": {},
   "source": [
    "### Part 3: Natural Language Processing Analysis"
   ]
  },
  {
   "cell_type": "markdown",
   "metadata": {},
   "source": [
    "In this section, we will perform a natural language process analysis of the NBA twitter data. first, we will merge the two data tables created in the previously mentioned R proram. Second, we will break up the twitter data into a usable format. Third, we will create a set of features to analyze the data. Fourth, we will train and test the data. Finally, we will run the analysis on the remaining untested data. For this analysis, we will see if we can predict whether a tweet has come from an active player(Yes), non-active player(No), or a team (Team).\n",
    "\n",
    "The below image is an example of a team account."
   ]
  },
  {
   "cell_type": "code",
   "execution_count": 23,
   "metadata": {
    "collapsed": false
   },
   "outputs": [
    {
     "data": {
      "text/html": [
       "<img src=\"https://raw.githubusercontent.com/spsstudent15/2017-02-620-WebAnalytics/master/twitter-cavs.JPG\"/>"
      ],
      "text/plain": [
       "<IPython.core.display.Image object>"
      ]
     },
     "execution_count": 23,
     "metadata": {},
     "output_type": "execute_result"
    }
   ],
   "source": [
    "Image(url= \"https://raw.githubusercontent.com/spsstudent15/2017-02-620-WebAnalytics/master/twitter-cavs.JPG\")"
   ]
  },
  {
   "cell_type": "markdown",
   "metadata": {},
   "source": [
    "<b>Data Import and Setup</b>"
   ]
  },
  {
   "cell_type": "code",
   "execution_count": 4,
   "metadata": {
    "collapsed": true
   },
   "outputs": [],
   "source": [
    "#Read in the previously mentioned R tables\n",
    "\n",
    "playerdf = pd.read_csv(\"https://raw.githubusercontent.com/john-grando/Masters/master/DATA620/Week6/playerList.csv\", encoding='latin-1')\n",
    "tweetdf = pd.read_csv(\"https://raw.githubusercontent.com/john-grando/Masters/master/DATA620/Week6/Top20Tweets_and_Teams_and_Ancillary.csv\", encoding='latin-1')"
   ]
  },
  {
   "cell_type": "code",
   "execution_count": 5,
   "metadata": {
    "collapsed": true
   },
   "outputs": [],
   "source": [
    "\n",
    "#Join the two tables using the twitter handle as the key.\n",
    "maindf = tweetdf.merge(playerdf, how='left', left_on=\"from_user\", right_on=\"handle\")\n",
    "\n",
    "#Check if there are any nulls or NaNs in the joined data.\n",
    "#print maindf.isnull().sum()"
   ]
  },
  {
   "cell_type": "markdown",
   "metadata": {
    "collapsed": true
   },
   "source": [
    "<b>Twitter Data Wrangling</b>"
   ]
  },
  {
   "cell_type": "code",
   "execution_count": 6,
   "metadata": {
    "collapsed": true
   },
   "outputs": [],
   "source": [
    "import re\n",
    "tweetlist = []\n",
    "for index, row in maindf.iterrows():\n",
    "    uni_list = []\n",
    "    word_list = []\n",
    "    hashtag_list = []\n",
    "    mention_list = []\n",
    "    #get just unicode tags\n",
    "    uni_list = [i for i in re.findall(r'[^\\w\\s,!@#/\\.\\:\\'\\\"]', row[\"text\"])]\n",
    "    #get words\n",
    "    word_list = [re.sub('[\\W]+','', word).lower() for word in row[\"text\"].split() if word[0].isalnum()]\n",
    "    #get hashtags\n",
    "    hashtag_list = [word for word in row[\"text\"].split() if word[0].startswith(\"#\")]\n",
    "    #get mentions\n",
    "    mention_list = [word for word in row[\"text\"].split() if word[0].startswith(\"@\")]\n",
    "    #recombine them all and add a tag\n",
    "    tweetlist.append(((uni_list + word_list + hashtag_list + mention_list, row[\"retweetCount\"], \n",
    "                      row[\"users_mentioned\"],row[\"hashtags_used\"]), row[\"active\"]))"
   ]
  },
  {
   "cell_type": "markdown",
   "metadata": {
    "collapsed": true
   },
   "source": [
    "<b>Set The Features Function</b>"
   ]
  },
  {
   "cell_type": "code",
   "execution_count": 7,
   "metadata": {
    "collapsed": true
   },
   "outputs": [],
   "source": [
    "def twitter_features(tweet, tweetcount, users_mentioned, hashtags_used):\n",
    "    tweet_words = set(tweet)\n",
    "    features = {}\n",
    "    #if nothing is returned from the tweetlist, it's a nan, so I used the isintance(x, float) method to filter.\n",
    "    #Check if there is more than one user metioned\n",
    "    if not isinstance(users_mentioned, float):\n",
    "        if len(users_mentioned.split(\",\"))>1:\n",
    "            features[\"num_instances({})\".format(\"mentioned_more_than_one\")] = True\n",
    "        else:\n",
    "            features[\"num_instances({})\".format(\"mentioned_more_than_one\")] = False\n",
    "    else:\n",
    "        features[\"num_instances({})\".format(\"mentioned_more_than_one\")] = False\n",
    "    #check the number of times tweet was retweeted\n",
    "    if int(tweetcount) > 1000:\n",
    "        features[\"num_instances({})\".format(\"retweet_count_large\")] = True\n",
    "    else:\n",
    "        features[\"num_instances({})\".format(\"retweet_count_large\")] = False\n",
    "    #check if more than one hashtag was used\n",
    "    if not isinstance(hashtags_used, float):\n",
    "        if len(hashtags_used.split(\",\"))>1:\n",
    "            features[\"num_instances({})\".format(\"hashtags_more_than_one\")] = True\n",
    "        else:\n",
    "            features[\"num_instances({})\".format(\"hashtags_more_than_one\")] = False\n",
    "    else:\n",
    "        features[\"num_instances({})\".format(\"hashtags_more_than_one\")] = False\n",
    "    #Create a feature for each user mentioned\n",
    "    if not isinstance(users_mentioned, float):\n",
    "        for i in [um for um in users_mentioned.split(\",\")]:\n",
    "            features[\"mentioned({})\".format(str(i).strip())] = True\n",
    "    #Create a feature for each hashtag used\n",
    "    if not isinstance(hashtags_used, float):\n",
    "        for i in [hu for hu in hashtags_used.split(\",\")]:\n",
    "            features[\"hashtag({})\".format(str(i).strip())] = True\n",
    "    return features"
   ]
  },
  {
   "cell_type": "markdown",
   "metadata": {},
   "source": [
    "<b>Train and Test the Feature Function</b>"
   ]
  },
  {
   "cell_type": "code",
   "execution_count": 8,
   "metadata": {
    "collapsed": true
   },
   "outputs": [],
   "source": [
    "#Set the randomizer\n",
    "random.seed(853)\n",
    "#shuffle the data\n",
    "random.shuffle(tweetlist)\n",
    "#Run the data through the features function to train, and guess, the tags.\n",
    "featuresets = [(twitter_features(d, rc, um, hu), c) for ((d, rc, um, hu),c) in tweetlist]\n",
    "train_set, dev_test_set, test_set = featuresets[:200], featuresets[200:400], featuresets[400:]\n",
    "classifier = nltk.NaiveBayesClassifier.train(train_set)"
   ]
  },
  {
   "cell_type": "markdown",
   "metadata": {},
   "source": [
    "<b>Check the Accuracy, Crosstab, Specificity, and Sensitivity of the Dev Set</b>"
   ]
  },
  {
   "cell_type": "code",
   "execution_count": 9,
   "metadata": {
    "collapsed": false
   },
   "outputs": [
    {
     "name": "stdout",
     "output_type": "stream",
     "text": [
      "Accuracy:\n",
      "Most Informative Features\n",
      "mentioned(NBASummerLeague) = True             Team : Yes    =      5.3 : 1.0\n",
      "num_instances(hashtags_more_than_one) = True               No : Yes    =      3.0 : 1.0\n",
      "num_instances(mentioned_more_than_one) = True             Team : Yes    =      2.7 : 1.0\n",
      "          mentioned(NBA) = True             Team : Yes    =      2.2 : 1.0\n",
      "num_instances(retweet_count_large) = True               No : Team   =      2.1 : 1.0\n",
      "    mentioned(KingJames) = True             Team : Yes    =      2.1 : 1.0\n",
      "     mentioned(warriors) = True             Team : Yes    =      2.1 : 1.0\n",
      "  mentioned(FCBarcelona) = True             Team : Yes    =      1.7 : 1.0\n",
      "num_instances(mentioned_more_than_one) = False             Yes : Team   =      1.3 : 1.0\n",
      "num_instances(retweet_count_large) = False            Team : No     =      1.3 : 1.0\n"
     ]
    }
   ],
   "source": [
    "print ('Accuracy:') \n",
    "nltk.classify.accuracy(classifier, dev_test_set)\n",
    "classifier.show_most_informative_features(10)"
   ]
  },
  {
   "cell_type": "code",
   "execution_count": 10,
   "metadata": {
    "collapsed": true
   },
   "outputs": [],
   "source": [
    "preds = pd.DataFrame({'observed':[classification for (email,classification) in dev_test_set],\n",
    "                      'predicted': [classifier.classify(twitter_features(d, rc, um, hu)) \n",
    "                                    for ((d, rc, um, hu),c) in tweetlist[200:400]]})"
   ]
  },
  {
   "cell_type": "code",
   "execution_count": 11,
   "metadata": {
    "collapsed": false
   },
   "outputs": [
    {
     "data": {
      "text/html": [
       "<div>\n",
       "<table border=\"1\" class=\"dataframe\">\n",
       "  <thead>\n",
       "    <tr style=\"text-align: right;\">\n",
       "      <th>predicted</th>\n",
       "      <th>No</th>\n",
       "      <th>Team</th>\n",
       "      <th>Yes</th>\n",
       "    </tr>\n",
       "    <tr>\n",
       "      <th>observed</th>\n",
       "      <th></th>\n",
       "      <th></th>\n",
       "      <th></th>\n",
       "    </tr>\n",
       "  </thead>\n",
       "  <tbody>\n",
       "    <tr>\n",
       "      <th>No</th>\n",
       "      <td>6</td>\n",
       "      <td>1</td>\n",
       "      <td>9</td>\n",
       "    </tr>\n",
       "    <tr>\n",
       "      <th>Team</th>\n",
       "      <td>4</td>\n",
       "      <td>61</td>\n",
       "      <td>36</td>\n",
       "    </tr>\n",
       "    <tr>\n",
       "      <th>Yes</th>\n",
       "      <td>4</td>\n",
       "      <td>11</td>\n",
       "      <td>68</td>\n",
       "    </tr>\n",
       "  </tbody>\n",
       "</table>\n",
       "</div>"
      ],
      "text/plain": [
       "predicted  No  Team  Yes\n",
       "observed                \n",
       "No          6     1    9\n",
       "Team        4    61   36\n",
       "Yes         4    11   68"
      ]
     },
     "execution_count": 11,
     "metadata": {},
     "output_type": "execute_result"
    }
   ],
   "source": [
    "pd.crosstab(preds.observed,preds.predicted)"
   ]
  },
  {
   "cell_type": "code",
   "execution_count": 12,
   "metadata": {
    "collapsed": false
   },
   "outputs": [
    {
     "name": "stdout",
     "output_type": "stream",
     "text": [
      "Sensitivity :  0.938461538462\n",
      "Specificity :  0.857142857143\n"
     ]
    }
   ],
   "source": [
    "#Confusion matrix, Accuracy, sensitivity and specificity\n",
    "from sklearn.metrics import confusion_matrix\n",
    "cm = confusion_matrix(preds.observed,preds.predicted)\n",
    "sensitivity1 = (float(cm[1,1])/(cm[1,1]+cm[1,0]))\n",
    "print('Sensitivity : ', sensitivity1 )\n",
    "\n",
    "specificity1 = (float(cm[0,0])/(cm[0,0]+cm[0,1]))\n",
    "print('Specificity : ', specificity1)"
   ]
  },
  {
   "cell_type": "markdown",
   "metadata": {},
   "source": [
    "<b>Check Against the Non-Development Data</b> "
   ]
  },
  {
   "cell_type": "code",
   "execution_count": 13,
   "metadata": {
    "collapsed": false
   },
   "outputs": [
    {
     "name": "stdout",
     "output_type": "stream",
     "text": [
      "Most Informative Features\n",
      "mentioned(NBASummerLeague) = True             Team : Yes    =      5.3 : 1.0\n",
      "num_instances(hashtags_more_than_one) = True               No : Yes    =      3.0 : 1.0\n",
      "num_instances(mentioned_more_than_one) = True             Team : Yes    =      2.7 : 1.0\n",
      "          mentioned(NBA) = True             Team : Yes    =      2.2 : 1.0\n",
      "num_instances(retweet_count_large) = True               No : Team   =      2.1 : 1.0\n",
      "    mentioned(KingJames) = True             Team : Yes    =      2.1 : 1.0\n",
      "     mentioned(warriors) = True             Team : Yes    =      2.1 : 1.0\n",
      "  mentioned(FCBarcelona) = True             Team : Yes    =      1.7 : 1.0\n",
      "num_instances(mentioned_more_than_one) = False             Yes : Team   =      1.3 : 1.0\n",
      "num_instances(retweet_count_large) = False            Team : No     =      1.3 : 1.0\n"
     ]
    }
   ],
   "source": [
    "#print 'Accuracy: %4.2f' \n",
    "nltk.classify.accuracy(classifier, test_set)\n",
    "classifier.show_most_informative_features(10)"
   ]
  },
  {
   "cell_type": "code",
   "execution_count": 14,
   "metadata": {
    "collapsed": false
   },
   "outputs": [
    {
     "data": {
      "text/html": [
       "<div>\n",
       "<table border=\"1\" class=\"dataframe\">\n",
       "  <thead>\n",
       "    <tr style=\"text-align: right;\">\n",
       "      <th>predicted</th>\n",
       "      <th>No</th>\n",
       "      <th>Team</th>\n",
       "      <th>Yes</th>\n",
       "    </tr>\n",
       "    <tr>\n",
       "      <th>observed</th>\n",
       "      <th></th>\n",
       "      <th></th>\n",
       "      <th></th>\n",
       "    </tr>\n",
       "  </thead>\n",
       "  <tbody>\n",
       "    <tr>\n",
       "      <th>No</th>\n",
       "      <td>23</td>\n",
       "      <td>9</td>\n",
       "      <td>69</td>\n",
       "    </tr>\n",
       "    <tr>\n",
       "      <th>Team</th>\n",
       "      <td>8</td>\n",
       "      <td>333</td>\n",
       "      <td>219</td>\n",
       "    </tr>\n",
       "    <tr>\n",
       "      <th>Yes</th>\n",
       "      <td>21</td>\n",
       "      <td>63</td>\n",
       "      <td>465</td>\n",
       "    </tr>\n",
       "  </tbody>\n",
       "</table>\n",
       "</div>"
      ],
      "text/plain": [
       "predicted  No  Team  Yes\n",
       "observed                \n",
       "No         23     9   69\n",
       "Team        8   333  219\n",
       "Yes        21    63  465"
      ]
     },
     "execution_count": 14,
     "metadata": {},
     "output_type": "execute_result"
    }
   ],
   "source": [
    "perf = pd.DataFrame({'observed':[classification for (email,classification) in test_set],\n",
    "                      'predicted': [classifier.classify(twitter_features(d, rc, um, hu)) \n",
    "                                    for ((d, rc, um, hu),c) in tweetlist[400:]]})\n",
    "pd.crosstab(perf.observed,perf.predicted)"
   ]
  },
  {
   "cell_type": "code",
   "execution_count": 15,
   "metadata": {
    "collapsed": false
   },
   "outputs": [
    {
     "name": "stdout",
     "output_type": "stream",
     "text": [
      "Sensitivity :  0.976539589443\n",
      "Specificity :  0.71875\n"
     ]
    }
   ],
   "source": [
    "#Confusion matrix, Accuracy, sensitivity and specificity\n",
    "from sklearn.metrics import confusion_matrix\n",
    "cm = confusion_matrix(perf.observed,perf.predicted)\n",
    "sensitivity1 = (float(cm[1,1])/(cm[1,1]+cm[1,0]))\n",
    "print('Sensitivity : ', sensitivity1 )\n",
    "\n",
    "specificity1 = (float(cm[0,0])/(cm[0,0]+cm[0,1]))\n",
    "print('Specificity : ', specificity1)"
   ]
  },
  {
   "cell_type": "markdown",
   "metadata": {
    "collapsed": true
   },
   "source": [
    "<b>Check the Triadic Structures Within the Data Set</b> "
   ]
  },
  {
   "cell_type": "code",
   "execution_count": 16,
   "metadata": {
    "collapsed": false
   },
   "outputs": [
    {
     "data": {
      "text/plain": [
       "{'003': 442413,\n",
       " '012': 12002,\n",
       " '021C': 0,\n",
       " '021D': 2895,\n",
       " '021U': 0,\n",
       " '030C': 0,\n",
       " '030T': 0,\n",
       " '102': 0,\n",
       " '111D': 0,\n",
       " '111U': 0,\n",
       " '120C': 0,\n",
       " '120D': 0,\n",
       " '120U': 0,\n",
       " '201': 0,\n",
       " '210': 0,\n",
       " '300': 0}"
      ]
     },
     "metadata": {},
     "output_type": "display_data"
    }
   ],
   "source": [
    "#start network analysis\n",
    "import networkx as net\n",
    "from IPython.display import display\n",
    "\n",
    "g = net.MultiDiGraph()\n",
    "for index, row in maindf.iterrows():\n",
    "    if not isinstance(row[\"reply_to\"],float) and not row[\"reply_to\"]==\"NA\":\n",
    "        #the third entry is how you set the weight\n",
    "        g.add_edge(row[\"from_user\"],row[\"reply_to\"],row[\"retweetCount\"])\n",
    "        #display(row[\"from_user\"] + \" replied to \" + row[\"reply_to\"] + \"which had %s retweets\" %(row[\"retweetCount\"]))\n",
    "display(net.triadic_census(g))"
   ]
  },
  {
   "cell_type": "markdown",
   "metadata": {},
   "source": [
    "From this analysis, we can see that, given the size of the data set, we have created a fairly good predictor of player, or team, status. The development test set returned an accuracy of 66% while the test set returned an accuracy of 62%. \n",
    "\n",
    "Additionally, the triadic analysis has shown that the network data set is fairly sparse and many users are not interconnected. The closest this set comes to a closed triad is a structure of 021D, which is not a very good sign of interconnection."
   ]
  },
  {
   "cell_type": "markdown",
   "metadata": {},
   "source": [
    "### Part 4: Network Analysis"
   ]
  },
  {
   "cell_type": "markdown",
   "metadata": {},
   "source": [
    "Out of 1610 tweets over the time period July 7 to July 18, 2017, 174 tweets contained a mention of a username within the core group of 23 individuals.\n",
    "\n",
    "Out of those 174 in-network mentions, 59 mentioned another unique user. The remainder of the in-network mentions were a reply-all, or thread, format, which included the original username. \n",
    "\n",
    "Therefore, 59 out of the 1610 tweets were true in-network connections.\n",
    "\n",
    "#### Summary of network statistics\n",
    "\n",
    "The below are communication exchanges within the core network.\n",
    "\n",
    "| Tweet From - Tweet To       | Count of Tweets           |\n",
    "| :------------- |:-------------:| \n",
    "| cavs-KingJames | 11 |\n",
    "| cavs-warriors | 1 |\n",
    "| DwyaneWade-CP3 | 1 |\n",
    "| KDTrey5-warriors | 4 |\n",
    "| KingJames-JHarden13 | 2 |\n",
    "| Lakers-MagicJohnson | 3 |\n",
    "| SteveNash-swish41 | 5 |\n",
    "| warriors-KDTrey5 | 4 |\n",
    "| warriors-StephenCurry30 | 27 |\n",
    "| World_Wide_Wob-KingJames | 1 |\n",
    "\n",
    "These all appear to be directed exchanges with the exception of one pair, KDTrey5-warriors and warriors-KDTrey5."
   ]
  },
  {
   "cell_type": "code",
   "execution_count": 25,
   "metadata": {
    "collapsed": false
   },
   "outputs": [
    {
     "data": {
      "image/png": "[encoded data removed]",
      "text/plain": [
       "<matplotlib.figure.Figure at 0xb663a20>"
      ]
     },
     "metadata": {},
     "output_type": "display_data"
    }
   ],
   "source": [
    "#set figure size and axes\n",
    "plt.figure(figsize = (10, 10))\n",
    "plt.axis('off')\n",
    "\n",
    "#define G\n",
    "G = nx.Graph()\n",
    "G.add_nodes_from([1,2,3,4,5,6,7,8,9,10,11,12,13])\n",
    "G.add_edges_from([(1,2),(1,6),(3,4),(5,6),(2,7),(8,9),(10,11),(6,12),(13,2)])\n",
    "\n",
    "## TO BE UPDATED WITH LATEST DATASET ################\n",
    "G.edge[1][2]['weight'] = 11\n",
    "G.edge[1][6]['weight'] = 1\n",
    "G.edge[3][4]['weight'] = 1\n",
    "G.edge[5][6]['weight'] = 8\n",
    "G.edge[2][7]['weight'] = 2\n",
    "G.edge[8][9]['weight'] = 3\n",
    "G.edge[10][11]['weight'] = 5\n",
    "G.edge[6][12]['weight'] = 27\n",
    "G.edge[13][2]['weight'] = 1\n",
    "\n",
    "labels={}\n",
    "labels[1]='cavs'\n",
    "labels[2]='KingJames'\n",
    "labels[3]='DwyaneWade'\n",
    "labels[4]='CP3'\n",
    "labels[5]='KDTrey5'\n",
    "labels[6]='warriors'\n",
    "labels[7]='JHarden13'\n",
    "labels[8]='Lakers'\n",
    "labels[9]='MagicJohnson'\n",
    "labels[10]='SteveNash'\n",
    "labels[11]='swish41'\n",
    "labels[12]='StephenCurry30'\n",
    "labels[13]='World_Wide_Wob'\n",
    "\n",
    "pos=nx.spring_layout(G)\n",
    "nx.draw_networkx(G, pos, alpha=0.4)\n",
    "nx.draw_networkx_labels(G,pos,labels,font_size=16);"
   ]
  },
  {
   "cell_type": "markdown",
   "metadata": {},
   "source": [
    "#### Test if the graph is connected."
   ]
  },
  {
   "cell_type": "markdown",
   "metadata": {},
   "source": [
    "The graph is not connected, as evidenced by the tweet replies and mentions."
   ]
  },
  {
   "cell_type": "code",
   "execution_count": 18,
   "metadata": {
    "collapsed": false
   },
   "outputs": [
    {
     "data": {
      "text/plain": [
       "False"
      ]
     },
     "execution_count": 18,
     "metadata": {},
     "output_type": "execute_result"
    }
   ],
   "source": [
    "nx.is_connected(G) "
   ]
  },
  {
   "cell_type": "markdown",
   "metadata": {},
   "source": [
    "#### Show the number of nodes and edges and the average degree."
   ]
  },
  {
   "cell_type": "code",
   "execution_count": 19,
   "metadata": {
    "collapsed": false
   },
   "outputs": [
    {
     "name": "stdout",
     "output_type": "stream",
     "text": [
      "Name: \n",
      "Type: Graph\n",
      "Number of nodes: 13\n",
      "Number of edges: 9\n",
      "Average degree:   1.3846\n"
     ]
    }
   ],
   "source": [
    "print(nx.info(G))"
   ]
  },
  {
   "cell_type": "markdown",
   "metadata": {},
   "source": [
    "The average degree connectivity is the average nearest neighbor degree of nodes with degree k. \n",
    "\n",
    "The graph is not connected. Therefore, we cannot find a measure for center, diameter, and radius."
   ]
  },
  {
   "cell_type": "markdown",
   "metadata": {},
   "source": [
    "#### Show measures for centrality."
   ]
  },
  {
   "cell_type": "code",
   "execution_count": 20,
   "metadata": {
    "collapsed": false
   },
   "outputs": [
    {
     "data": {
      "text/plain": [
       "{1: 0.13636363636363635,\n",
       " 2: 0.13636363636363635,\n",
       " 3: 0.0,\n",
       " 4: 0.0,\n",
       " 5: 0.0,\n",
       " 6: 0.13636363636363635,\n",
       " 7: 0.0,\n",
       " 8: 0.0,\n",
       " 9: 0.0,\n",
       " 10: 0.0,\n",
       " 11: 0.0,\n",
       " 12: 0.0,\n",
       " 13: 0.0}"
      ]
     },
     "execution_count": 20,
     "metadata": {},
     "output_type": "execute_result"
    }
   ],
   "source": [
    "nx.betweenness_centrality(G)"
   ]
  },
  {
   "cell_type": "markdown",
   "metadata": {},
   "source": [
    "#### Results\n",
    "\n",
    "Out of our select group of users, we see that the cavs, KingJames, and warriors accounts have the greatest centrality.\n",
    "\n",
    "#### Further Network Analysis\n",
    "\n",
    "We also tested an expanded network by evaluating all NBA players and their followers. \n",
    "\n",
    "\n",
    "<a href=\"https://github.com/capstat/MSDA_620/blob/master/Final_Project.ipynb\">Click here to view the code for this network analysis on GitHub.</a>\n"
   ]
  },
  {
   "cell_type": "markdown",
   "metadata": {},
   "source": [
    "### Part 6: Conclusion\n",
    "\n",
    "[Brief summary of each section; explanation of what we learned; comparison to what we predicted; technical and conceptual challenges we faced] \n"
   ]
  }
 ],
 "metadata": {
  "anaconda-cloud": {},
  "kernelspec": {
   "display_name": "Python [default]",
   "language": "python",
   "name": "python3"
  },
  "language_info": {
   "codemirror_mode": {
    "name": "ipython",
    "version": 3
   },
   "file_extension": ".py",
   "mimetype": "text/x-python",
   "name": "python",
   "nbconvert_exporter": "python",
   "pygments_lexer": "ipython3",
   "version": "3.5.2"
  }
 },
 "nbformat": 4,
 "nbformat_minor": 2
}
