{
 "cells": [
  {
   "cell_type": "markdown",
   "metadata": {},
   "source": [
    "## NBA Tweets: Natural Language Processing and Network Analysis\n",
    "\n",
    "MSDA Data 620 Final Project \n",
    "\n",
    "Team 4 - John Grando, Nick Capofari, Ken Markus, Armenoush Aslanian-Persico, Andrew Goldberg\n",
    "\n"
   ]
  },
  {
   "cell_type": "code",
   "execution_count": 40,
   "metadata": {},
   "outputs": [
    {
     "data": {
      "text/html": [
       "<img src=\"https://raw.githubusercontent.com/spsstudent15/2017-02-620-WebAnalytics/master/nbalogo.jpg\"/>"
      ],
      "text/plain": [
       "<IPython.core.display.Image object>"
      ]
     },
     "execution_count": 40,
     "metadata": {},
     "output_type": "execute_result"
    }
   ],
   "source": [
    "from IPython.display import Image\n",
    "from IPython.core.display import HTML \n",
    "Image(url= \"https://raw.githubusercontent.com/spsstudent15/2017-02-620-WebAnalytics/master/nbalogo.jpg\")"
   ]
  },
  {
   "cell_type": "markdown",
   "metadata": {},
   "source": [
    "### Part 1: Introduction\n",
    "\n",
    "The NBA has among the most active social media users in the world of professional sports. Players often interact directly with their fans via Twitter, and interact with one another as well. Our analysis pulled tweets from the most active current players on Twitter (identified from fanpagelist.com) and we added a few additional handles of the most active former players, coaches and owners within the NBA network.\n",
    "\n",
    "We expect to see players associated with a particular team to interact more frequently, and connect with their own team handles especially. We also expect the networks to still resemble typical ‘broadcast’ type structures in that networks in general will be sparse.\n",
    "\n",
    "Please note that the data was pulled during the offseason (between July 12 and July 17), so activity is relatively low. An interesting follow-up would be to re-run the data pulls and code during playoffs for the regular season and compare the results.\n",
    "\n",
    "\n",
    "<b>YouTube walkthroughs of project sections are available here:</b>\n",
    "\n",
    "Data acquisition: https://youtu.be/onedOIidyU0\n",
    "\n",
    "Natural Language Processing: \n",
    "\n",
    "Network analysis:"
   ]
  },
  {
   "cell_type": "markdown",
   "metadata": {},
   "source": [
    "### Part 2: Data acquisition\n",
    "\n",
    "We collected recent tweets from the most active NBA players (and associates) via the Twitter Search API. The API allows for basic search queries (e.g. to: or from: a specific handle, or containing a specific hashtag). However, there are certain limitations with the public-facing API:\n",
    "\n",
    "-Results are limited to the last 7 days\n",
    "\n",
    "-Return sets are limited in size, the documentation states only 7 tweets are returned in each query; however in practice we were able to pull upwards of 50 tweets per query.\n",
    "\n",
    "An alternative to Twitter’s Search API is their Streaming API, which returns real-time results. We attempted to leverage this option, however the result sets were actually smaller because the players and associates were simply not active enough on Twitter to yield more results.\n",
    "\n",
    "Once tokens were acquired, performing the data pulls proved relatively simple. We leveraged package SocialMediaLab to facilitate the formatting of the data. This package contains wrappers for Facebook and Instagram APIs in addition to Twitter. The encapsulation of credentials, and formatting of tweet data are the primary benefits.\n",
    "\n",
    "The output data derives from the twitteR package, of the status-class class.\n",
    "\n",
    "#### Field data dictionary\n",
    "\n",
    "The below are variable fields available in the API pull data.\n",
    "\n",
    "| Variable        | Definition           |\n",
    "| :------------- |:-------------:| \n",
    "| text      | The text of the status. | \n",
    "| screenName      | Screenname of the user who posted the status. |\n",
    "| created | When this status was created. |\n",
    "| favorited | Whether this status has been favorited. |\n",
    "| id | ID of the status. |\n",
    "| replyToSN | Screen name of the user this is in reply to. |\n",
    "| replyTOUID | ID of the user this was in reply to. |\n",
    "| retweetCount | The number of times this status has been retweeeted. |\n",
    "| retweeted | TRUE if this status has been retweeted. |\n",
    "| statusSource | Source user agent for this tweet. |\n",
    "| truncated | Whether this status was truncated. |\n",
    "\n",
    "\n",
    "<a href=\"https://github.com/kennygfm/Data620/blob/master/Team4_FinalProject_buildTwitterDataFrame_V7.9.R\">Click here to view the code for this data pull on GitHub.</a>\n"
   ]
  },
  {
   "cell_type": "markdown",
   "metadata": {},
   "source": [
    "### Part 3: Data setup and packages"
   ]
  },
  {
   "cell_type": "markdown",
   "metadata": {},
   "source": [
    "We imported the following packages for use in this project."
   ]
  },
  {
   "cell_type": "code",
   "execution_count": 41,
   "metadata": {
    "collapsed": true
   },
   "outputs": [],
   "source": [
    "import networkx as nx\n",
    "import networkx.algorithms\n",
    "import networkx.algorithms.bipartite as bipartite\n",
    "import matplotlib.pyplot as plt\n",
    "import numpy\n",
    "import pandas as pd\n",
    "import pylab as py\n",
    "import nltk\n",
    "import random\n",
    "\n",
    "from networkx.algorithms.components.connected import connected_components\n",
    "from scipy.spatial import distance\n",
    "from scipy.cluster import hierarchy\n",
    "from collections import defaultdict\n",
    "\n",
    "% matplotlib inline"
   ]
  },
  {
   "cell_type": "markdown",
   "metadata": {},
   "source": [
    "### Part 4: Natural Language Processing Analysis"
   ]
  },
  {
   "cell_type": "markdown",
   "metadata": {},
   "source": [
    "In this section, we will perform a natural language process analysis of the NBA twitter data. first, we will merge the two data tables created in the previously mentioned R proram. Second, we will break up the twitter data into a usable format. Third, we will create a set of features to analyze the data. Fourth, we will train and test the data. Finally, we will run the analysis on the remaining untested data. For this analysis, we will see if we can predict whether a tweet has come from an active player(Yes), non-active player(No), or a team (Team)."
   ]
  },
  {
   "cell_type": "markdown",
   "metadata": {},
   "source": [
    "<b>Data Import and Setup</b>"
   ]
  },
  {
   "cell_type": "code",
   "execution_count": null,
   "metadata": {},
   "outputs": [],
   "source": [
    "#Read in the previously mentioned R tables\n",
    "\n",
    "playerdf = pd.read_csv(\"https://raw.githubusercontent.com/john-grando/Masters/master/DATA620/Week6/playerList.csv\", encoding='latin-1')\n",
    "tweetdf = pd.read_csv(\"https://raw.githubusercontent.com/john-grando/Masters/master/DATA620/Week6/Top20Tweets_and_Teams_and_Ancillary.csv\", encoding='latin-1')"
   ]
  },
  {
   "cell_type": "code",
   "execution_count": 43,
   "metadata": {},
   "outputs": [],
   "source": [
    "\n",
    "#Join the two tables using the twitter handle as the key.\n",
    "maindf = tweetdf.merge(playerdf, how='left', left_on=\"from_user\", right_on=\"handle\")\n",
    "\n",
    "#Check if there are any nulls or NaNs in the joined data.\n",
    "#print maindf.isnull().sum()"
   ]
  },
  {
   "cell_type": "markdown",
   "metadata": {
    "collapsed": true
   },
   "source": [
    "<b>Twitter Data Wrangling</b>"
   ]
  },
  {
   "cell_type": "code",
   "execution_count": 44,
   "metadata": {},
   "outputs": [],
   "source": [
    "import re\n",
    "tweetlist = []\n",
    "for index, row in maindf.iterrows():\n",
    "    uni_list = []\n",
    "    word_list = []\n",
    "    hashtag_list = []\n",
    "    mention_list = []\n",
    "    #get just unicode tags\n",
    "    uni_list = [i for i in re.findall(r'[^\\w\\s,!@#/\\.\\:\\'\\\"]', row[\"text\"])]\n",
    "    #get words\n",
    "    word_list = [re.sub('[\\W]+','', word).lower() for word in row[\"text\"].split() if word[0].isalnum()]\n",
    "    #get hashtags\n",
    "    hashtag_list = [word for word in row[\"text\"].split() if word[0].startswith(\"#\")]\n",
    "    #get mentions\n",
    "    mention_list = [word for word in row[\"text\"].split() if word[0].startswith(\"@\")]\n",
    "    #recombine them all and add a tag\n",
    "    tweetlist.append(((uni_list + word_list + hashtag_list + mention_list, row[\"retweetCount\"], \n",
    "                      row[\"users_mentioned\"],row[\"hashtags_used\"]), row[\"active\"]))"
   ]
  },
  {
   "cell_type": "markdown",
   "metadata": {
    "collapsed": true
   },
   "source": [
    "<b>Set The Features Function</b>"
   ]
  },
  {
   "cell_type": "code",
   "execution_count": 45,
   "metadata": {
    "collapsed": true
   },
   "outputs": [],
   "source": [
    "def twitter_features(tweet, tweetcount, users_mentioned, hashtags_used):\n",
    "    tweet_words = set(tweet)\n",
    "    features = {}\n",
    "    #if nothing is returned from the tweetlist, it's a nan, so I used the isintance(x, float) method to filter.\n",
    "    #Check if there is more than one user metioned\n",
    "    if not isinstance(users_mentioned, float):\n",
    "        if len(users_mentioned.split(\",\"))>1:\n",
    "            features[\"num_instances({})\".format(\"mentioned_more_than_one\")] = True\n",
    "        else:\n",
    "            features[\"num_instances({})\".format(\"mentioned_more_than_one\")] = False\n",
    "    else:\n",
    "        features[\"num_instances({})\".format(\"mentioned_more_than_one\")] = False\n",
    "    #check the number of times tweet was retweeted\n",
    "    if int(tweetcount) > 1000:\n",
    "        features[\"num_instances({})\".format(\"retweet_count_large\")] = True\n",
    "    else:\n",
    "        features[\"num_instances({})\".format(\"retweet_count_large\")] = False\n",
    "    #check if more than one hashtag was used\n",
    "    if not isinstance(hashtags_used, float):\n",
    "        if len(hashtags_used.split(\",\"))>1:\n",
    "            features[\"num_instances({})\".format(\"hashtags_more_than_one\")] = True\n",
    "        else:\n",
    "            features[\"num_instances({})\".format(\"hashtags_more_than_one\")] = False\n",
    "    else:\n",
    "        features[\"num_instances({})\".format(\"hashtags_more_than_one\")] = False\n",
    "    #Create a feature for each user mentioned\n",
    "    if not isinstance(users_mentioned, float):\n",
    "        for i in [um for um in users_mentioned.split(\",\")]:\n",
    "            features[\"mentioned({})\".format(str(i).strip())] = True\n",
    "    #Create a feature for each hashtag used\n",
    "    if not isinstance(hashtags_used, float):\n",
    "        for i in [hu for hu in hashtags_used.split(\",\")]:\n",
    "            features[\"hashtag({})\".format(str(i).strip())] = True\n",
    "    return features"
   ]
  },
  {
   "cell_type": "markdown",
   "metadata": {},
   "source": [
    "<b>Train and Test the Feature Function</b>"
   ]
  },
  {
   "cell_type": "code",
   "execution_count": 46,
   "metadata": {
    "collapsed": true
   },
   "outputs": [],
   "source": [
    "#Set the randomizer\n",
    "random.seed(853)\n",
    "#shuffle the data\n",
    "random.shuffle(tweetlist)\n",
    "#Run the data through the features function to train, and guess, the tags.\n",
    "featuresets = [(twitter_features(d, rc, um, hu), c) for ((d, rc, um, hu),c) in tweetlist]\n",
    "train_set, dev_test_set, test_set = featuresets[:200], featuresets[200:400], featuresets[400:]\n",
    "classifier = nltk.NaiveBayesClassifier.train(train_set)"
   ]
  },
  {
   "cell_type": "markdown",
   "metadata": {},
   "source": [
    "<b>Check the Accuracy, Crosstab, Specificity, and Sensitivity of the Dev Set</b>"
   ]
  },
  {
   "cell_type": "code",
   "execution_count": 47,
   "metadata": {},
   "outputs": [
    {
     "name": "stdout",
     "output_type": "stream",
     "text": [
      "Accuracy:\n",
      "Most Informative Features\n",
      "mentioned(NBASummerLeague) = True             Team : Yes    =      5.3 : 1.0\n",
      "num_instances(hashtags_more_than_one) = True               No : Yes    =      3.0 : 1.0\n",
      "num_instances(mentioned_more_than_one) = True             Team : Yes    =      2.7 : 1.0\n",
      "          mentioned(NBA) = True             Team : Yes    =      2.2 : 1.0\n",
      "num_instances(retweet_count_large) = True               No : Team   =      2.1 : 1.0\n",
      "    mentioned(KingJames) = True             Team : Yes    =      2.1 : 1.0\n",
      "     mentioned(warriors) = True             Team : Yes    =      2.1 : 1.0\n",
      "  mentioned(FCBarcelona) = True             Team : Yes    =      1.7 : 1.0\n",
      "num_instances(mentioned_more_than_one) = False             Yes : Team   =      1.3 : 1.0\n",
      "num_instances(retweet_count_large) = False            Team : No     =      1.3 : 1.0\n"
     ]
    }
   ],
   "source": [
    "print ('Accuracy:') \n",
    "nltk.classify.accuracy(classifier, dev_test_set)\n",
    "classifier.show_most_informative_features(10)"
   ]
  },
  {
   "cell_type": "code",
   "execution_count": 48,
   "metadata": {
    "collapsed": true
   },
   "outputs": [],
   "source": [
    "preds = pd.DataFrame({'observed':[classification for (email,classification) in dev_test_set],\n",
    "                      'predicted': [classifier.classify(twitter_features(d, rc, um, hu)) \n",
    "                                    for ((d, rc, um, hu),c) in tweetlist[200:400]]})"
   ]
  },
  {
   "cell_type": "code",
   "execution_count": 49,
   "metadata": {},
   "outputs": [
    {
     "data": {
      "text/html": [
       "<div>\n",
       "<style>\n",
       "    .dataframe thead tr:only-child th {\n",
       "        text-align: right;\n",
       "    }\n",
       "\n",
       "    .dataframe thead th {\n",
       "        text-align: left;\n",
       "    }\n",
       "\n",
       "    .dataframe tbody tr th {\n",
       "        vertical-align: top;\n",
       "    }\n",
       "</style>\n",
       "<table border=\"1\" class=\"dataframe\">\n",
       "  <thead>\n",
       "    <tr style=\"text-align: right;\">\n",
       "      <th>predicted</th>\n",
       "      <th>No</th>\n",
       "      <th>Team</th>\n",
       "      <th>Yes</th>\n",
       "    </tr>\n",
       "    <tr>\n",
       "      <th>observed</th>\n",
       "      <th></th>\n",
       "      <th></th>\n",
       "      <th></th>\n",
       "    </tr>\n",
       "  </thead>\n",
       "  <tbody>\n",
       "    <tr>\n",
       "      <th>No</th>\n",
       "      <td>6</td>\n",
       "      <td>1</td>\n",
       "      <td>9</td>\n",
       "    </tr>\n",
       "    <tr>\n",
       "      <th>Team</th>\n",
       "      <td>4</td>\n",
       "      <td>61</td>\n",
       "      <td>36</td>\n",
       "    </tr>\n",
       "    <tr>\n",
       "      <th>Yes</th>\n",
       "      <td>4</td>\n",
       "      <td>11</td>\n",
       "      <td>68</td>\n",
       "    </tr>\n",
       "  </tbody>\n",
       "</table>\n",
       "</div>"
      ],
      "text/plain": [
       "predicted  No  Team  Yes\n",
       "observed                \n",
       "No          6     1    9\n",
       "Team        4    61   36\n",
       "Yes         4    11   68"
      ]
     },
     "execution_count": 49,
     "metadata": {},
     "output_type": "execute_result"
    }
   ],
   "source": [
    "pd.crosstab(preds.observed,preds.predicted)"
   ]
  },
  {
   "cell_type": "code",
   "execution_count": 50,
   "metadata": {},
   "outputs": [
    {
     "name": "stdout",
     "output_type": "stream",
     "text": [
      "Sensitivity :  0.938461538462\n",
      "Specificity :  0.857142857143\n"
     ]
    }
   ],
   "source": [
    "#Confusion matrix, Accuracy, sensitivity and specificity\n",
    "from sklearn.metrics import confusion_matrix\n",
    "cm = confusion_matrix(preds.observed,preds.predicted)\n",
    "sensitivity1 = (float(cm[1,1])/(cm[1,1]+cm[1,0]))\n",
    "print('Sensitivity : ', sensitivity1 )\n",
    "\n",
    "specificity1 = (float(cm[0,0])/(cm[0,0]+cm[0,1]))\n",
    "print('Specificity : ', specificity1)"
   ]
  },
  {
   "cell_type": "markdown",
   "metadata": {},
   "source": [
    "<b>Check Against the Non-Development Data</b> "
   ]
  },
  {
   "cell_type": "code",
   "execution_count": 52,
   "metadata": {},
   "outputs": [
    {
     "name": "stdout",
     "output_type": "stream",
     "text": [
      "Most Informative Features\n",
      "mentioned(NBASummerLeague) = True             Team : Yes    =      5.3 : 1.0\n",
      "num_instances(hashtags_more_than_one) = True               No : Yes    =      3.0 : 1.0\n",
      "num_instances(mentioned_more_than_one) = True             Team : Yes    =      2.7 : 1.0\n",
      "          mentioned(NBA) = True             Team : Yes    =      2.2 : 1.0\n",
      "num_instances(retweet_count_large) = True               No : Team   =      2.1 : 1.0\n",
      "    mentioned(KingJames) = True             Team : Yes    =      2.1 : 1.0\n",
      "     mentioned(warriors) = True             Team : Yes    =      2.1 : 1.0\n",
      "  mentioned(FCBarcelona) = True             Team : Yes    =      1.7 : 1.0\n",
      "num_instances(mentioned_more_than_one) = False             Yes : Team   =      1.3 : 1.0\n",
      "num_instances(retweet_count_large) = False            Team : No     =      1.3 : 1.0\n"
     ]
    }
   ],
   "source": [
    "#print 'Accuracy: %4.2f' \n",
    "nltk.classify.accuracy(classifier, test_set)\n",
    "classifier.show_most_informative_features(10)"
   ]
  },
  {
   "cell_type": "code",
   "execution_count": 53,
   "metadata": {},
   "outputs": [
    {
     "data": {
      "text/html": [
       "<div>\n",
       "<style>\n",
       "    .dataframe thead tr:only-child th {\n",
       "        text-align: right;\n",
       "    }\n",
       "\n",
       "    .dataframe thead th {\n",
       "        text-align: left;\n",
       "    }\n",
       "\n",
       "    .dataframe tbody tr th {\n",
       "        vertical-align: top;\n",
       "    }\n",
       "</style>\n",
       "<table border=\"1\" class=\"dataframe\">\n",
       "  <thead>\n",
       "    <tr style=\"text-align: right;\">\n",
       "      <th>predicted</th>\n",
       "      <th>No</th>\n",
       "      <th>Team</th>\n",
       "      <th>Yes</th>\n",
       "    </tr>\n",
       "    <tr>\n",
       "      <th>observed</th>\n",
       "      <th></th>\n",
       "      <th></th>\n",
       "      <th></th>\n",
       "    </tr>\n",
       "  </thead>\n",
       "  <tbody>\n",
       "    <tr>\n",
       "      <th>No</th>\n",
       "      <td>23</td>\n",
       "      <td>9</td>\n",
       "      <td>69</td>\n",
       "    </tr>\n",
       "    <tr>\n",
       "      <th>Team</th>\n",
       "      <td>8</td>\n",
       "      <td>333</td>\n",
       "      <td>219</td>\n",
       "    </tr>\n",
       "    <tr>\n",
       "      <th>Yes</th>\n",
       "      <td>21</td>\n",
       "      <td>63</td>\n",
       "      <td>465</td>\n",
       "    </tr>\n",
       "  </tbody>\n",
       "</table>\n",
       "</div>"
      ],
      "text/plain": [
       "predicted  No  Team  Yes\n",
       "observed                \n",
       "No         23     9   69\n",
       "Team        8   333  219\n",
       "Yes        21    63  465"
      ]
     },
     "execution_count": 53,
     "metadata": {},
     "output_type": "execute_result"
    }
   ],
   "source": [
    "perf = pd.DataFrame({'observed':[classification for (email,classification) in test_set],\n",
    "                      'predicted': [classifier.classify(twitter_features(d, rc, um, hu)) \n",
    "                                    for ((d, rc, um, hu),c) in tweetlist[400:]]})\n",
    "pd.crosstab(perf.observed,perf.predicted)"
   ]
  },
  {
   "cell_type": "code",
   "execution_count": 54,
   "metadata": {},
   "outputs": [
    {
     "name": "stdout",
     "output_type": "stream",
     "text": [
      "Sensitivity :  0.976539589443\n",
      "Specificity :  0.71875\n"
     ]
    }
   ],
   "source": [
    "#Confusion matrix, Accuracy, sensitivity and specificity\n",
    "from sklearn.metrics import confusion_matrix\n",
    "cm = confusion_matrix(perf.observed,perf.predicted)\n",
    "sensitivity1 = (float(cm[1,1])/(cm[1,1]+cm[1,0]))\n",
    "print('Sensitivity : ', sensitivity1 )\n",
    "\n",
    "specificity1 = (float(cm[0,0])/(cm[0,0]+cm[0,1]))\n",
    "print('Specificity : ', specificity1)"
   ]
  },
  {
   "cell_type": "markdown",
   "metadata": {
    "collapsed": true
   },
   "source": [
    "<b>Check the Triadic Structures Within the Data Set</b> "
   ]
  },
  {
   "cell_type": "code",
   "execution_count": 57,
   "metadata": {},
   "outputs": [
    {
     "data": {
      "text/plain": [
       "{'003': 442413,\n",
       " '012': 12002,\n",
       " '021C': 0,\n",
       " '021D': 2895,\n",
       " '021U': 0,\n",
       " '030C': 0,\n",
       " '030T': 0,\n",
       " '102': 0,\n",
       " '111D': 0,\n",
       " '111U': 0,\n",
       " '120C': 0,\n",
       " '120D': 0,\n",
       " '120U': 0,\n",
       " '201': 0,\n",
       " '210': 0,\n",
       " '300': 0}"
      ]
     },
     "metadata": {},
     "output_type": "display_data"
    }
   ],
   "source": [
    "#start network analysis\n",
    "import networkx as net\n",
    "from IPython.display import display\n",
    "\n",
    "g = net.MultiDiGraph()\n",
    "for index, row in maindf.iterrows():\n",
    "    if not isinstance(row[\"reply_to\"],float) and not row[\"reply_to\"]==\"NA\":\n",
    "        #the third entry is how you set the weight\n",
    "        g.add_edge(row[\"from_user\"],row[\"reply_to\"],row[\"retweetCount\"])\n",
    "        #display(row[\"from_user\"] + \" replied to \" + row[\"reply_to\"] + \"which had %s retweets\" %(row[\"retweetCount\"]))\n",
    "display(net.triadic_census(g))"
   ]
  },
  {
   "cell_type": "markdown",
   "metadata": {},
   "source": [
    "From this analysis, we can see that, given the size of the data set, we have created a fairly good predictor of player, or team, status. The development test set returned an accuracy of 66% while the test set returned an accuracy of 62%. \n",
    "\n",
    "Additionally, the triadic analysis has shown that the network data set is fairly sparse and many users are not interconnected. The closest this set comes to a closed triad is a structure of 021D, which is not a very good sign of interconnection."
   ]
  },
  {
   "cell_type": "markdown",
   "metadata": {},
   "source": [
    "### Part 5: Network Analysis"
   ]
  },
  {
   "cell_type": "markdown",
   "metadata": {},
   "source": [
    "[Introduction to Network section]***************************************\n"
   ]
  },
  {
   "cell_type": "code",
   "execution_count": 58,
   "metadata": {},
   "outputs": [
    {
     "data": {
      "image/png": "[encoded data removed]",
      "text/plain": [
       "<matplotlib.figure.Figure at 0xd045dd8>"
      ]
     },
     "metadata": {},
     "output_type": "display_data"
    }
   ],
   "source": [
    "#set figure size and axes\n",
    "plt.figure(figsize = (10, 10))\n",
    "plt.axis('off')\n",
    "\n",
    "#define G\n",
    "G = nx.Graph()\n",
    "\n",
    "G.add_nodes_from([1,2,3,4,5,6,7,8,9,10])\n",
    "\n",
    "G.add_edges_from([(1,2),(3,4),(5,6),(2,7),(8,9),(10,11),(6,5),(6,12)])\n",
    "\n",
    "G.edge[1][2]['weight'] = 6\n",
    "G.edge[3][4]['weight'] = 1\n",
    "G.edge[5][6]['weight'] = 2\n",
    "G.edge[2][7]['weight'] = 2\n",
    "G.edge[8][9]['weight'] = 2\n",
    "G.edge[10][11]['weight'] = 3\n",
    "G.edge[6][5]['weight'] = 2\n",
    "G.edge[6][12]['weight'] = 17\n",
    "\n",
    "labels={}\n",
    "labels[1]='cavs'\n",
    "labels[2]='KingJames'\n",
    "labels[3]='DwyaneWade'\n",
    "labels[4]='CP3'\n",
    "labels[5]='KDTrey5'\n",
    "labels[6]='warriors'\n",
    "labels[7]='JHarden13'\n",
    "labels[8]='Lakers'\n",
    "labels[9]='MagicJohnson'\n",
    "labels[10]='SteveNash'\n",
    "labels[11]='swish41'\n",
    "labels[12]='StephenCurry30'\n",
    "\n",
    "pos=nx.spring_layout(G)\n",
    "\n",
    "#without weights\n",
    "nx.draw_networkx(G, pos, alpha=0.4)\n",
    "#nx.draw_networkx_edges(G, pos, alpha = 0.4, width='weight')\n",
    "#nx.draw_networkx_labels(G, pos)\n",
    "nx.draw_networkx_labels(G,pos,labels,font_size=16);\n",
    "#plt.show()"
   ]
  },
  {
   "cell_type": "markdown",
   "metadata": {},
   "source": [
    "Edge weights\n",
    "\n",
    "1-2\n",
    "cavs-KingJames\t6\n",
    "\n",
    "3-4\n",
    "DwyaneWade-CP3\t1\n",
    "\n",
    "5-6\n",
    "KDTrey5-warriors\t2\n",
    "\n",
    "2-7\n",
    "KingJames-JHarden13\t2\n",
    "\n",
    "8-9\n",
    "Lakers-MagicJohnson\t2\n",
    "\n",
    "10-11\n",
    "SteveNash-swish41\t3\n",
    "\n",
    "6-5\n",
    "warriors-KDTrey5\t2\n",
    "\n",
    "6-12\n",
    "warriors-StephenCurry30\t17\n"
   ]
  },
  {
   "cell_type": "markdown",
   "metadata": {},
   "source": [
    "#### Test if the graph is connected."
   ]
  },
  {
   "cell_type": "markdown",
   "metadata": {},
   "source": [
    "The graph is not connected, as evidenced by the tweet replies and mentions."
   ]
  },
  {
   "cell_type": "code",
   "execution_count": 59,
   "metadata": {},
   "outputs": [
    {
     "data": {
      "text/plain": [
       "False"
      ]
     },
     "execution_count": 59,
     "metadata": {},
     "output_type": "execute_result"
    }
   ],
   "source": [
    "nx.is_connected(G) "
   ]
  },
  {
   "cell_type": "markdown",
   "metadata": {},
   "source": [
    "#### Test if the graph is bipartite."
   ]
  },
  {
   "cell_type": "code",
   "execution_count": 60,
   "metadata": {},
   "outputs": [
    {
     "data": {
      "text/plain": [
       "True"
      ]
     },
     "execution_count": 60,
     "metadata": {},
     "output_type": "execute_result"
    }
   ],
   "source": [
    "bipartite.is_bipartite(G)"
   ]
  },
  {
   "cell_type": "markdown",
   "metadata": {},
   "source": [
    "The graph is bipartite."
   ]
  },
  {
   "cell_type": "markdown",
   "metadata": {},
   "source": [
    "#### Show the number of nodes and edges and the average degree."
   ]
  },
  {
   "cell_type": "code",
   "execution_count": 61,
   "metadata": {},
   "outputs": [
    {
     "name": "stdout",
     "output_type": "stream",
     "text": [
      "Name: \n",
      "Type: Graph\n",
      "Number of nodes: 12\n",
      "Number of edges: 7\n",
      "Average degree:   1.1667\n"
     ]
    }
   ],
   "source": [
    "print(nx.info(G))"
   ]
  },
  {
   "cell_type": "markdown",
   "metadata": {},
   "source": [
    "The average degree connectivity is the average nearest neighbor degree of nodes with degree k. \n",
    "\n",
    "The graph is not connected. Therefore, we cannot find a measure for center, diameter, and radius."
   ]
  },
  {
   "cell_type": "markdown",
   "metadata": {},
   "source": [
    "#### Show measures for centrality."
   ]
  },
  {
   "cell_type": "code",
   "execution_count": 62,
   "metadata": {},
   "outputs": [
    {
     "data": {
      "text/plain": [
       "{1: 0.0,\n",
       " 2: 0.01818181818181818,\n",
       " 3: 0.0,\n",
       " 4: 0.0,\n",
       " 5: 0.0,\n",
       " 6: 0.01818181818181818,\n",
       " 7: 0.0,\n",
       " 8: 0.0,\n",
       " 9: 0.0,\n",
       " 10: 0.0,\n",
       " 11: 0.0,\n",
       " 12: 0.0}"
      ]
     },
     "execution_count": 62,
     "metadata": {},
     "output_type": "execute_result"
    }
   ],
   "source": [
    "nx.betweenness_centrality(G)"
   ]
  },
  {
   "cell_type": "markdown",
   "metadata": {},
   "source": [
    "#### Show Ego Networks\n"
   ]
  },
  {
   "cell_type": "code",
   "execution_count": 64,
   "metadata": {},
   "outputs": [
    {
     "name": "stdout",
     "output_type": "stream",
     "text": [
      "Name: \n",
      "Type: Graph\n",
      "Number of nodes: 3\n",
      "Number of edges: 2\n",
      "Average degree:   1.3333\n"
     ]
    }
   ],
   "source": [
    "nx.ego_graph(G, 2)\n",
    "ego_net=nx.ego_graph(G, 2)\n",
    "print(nx.info(ego_net))"
   ]
  },
  {
   "cell_type": "code",
   "execution_count": 65,
   "metadata": {},
   "outputs": [
    {
     "data": {
      "text/plain": [
       "<matplotlib.figure.Figure at 0xdb1f4a8>"
      ]
     },
     "execution_count": 65,
     "metadata": {},
     "output_type": "execute_result"
    },
    {
     "data": {
      "image/png": "[encoded data removed]",
      "text/plain": [
       "<matplotlib.figure.Figure at 0xd71d160>"
      ]
     },
     "metadata": {},
     "output_type": "display_data"
    },
    {
     "data": {
      "text/plain": [
       "<matplotlib.figure.Figure at 0xdb1f4a8>"
      ]
     },
     "metadata": {},
     "output_type": "display_data"
    }
   ],
   "source": [
    "pos=nx.shell_layout(ego_net)\n",
    "nx.draw_networkx(ego_net, pos, node_size=800, node_color='#76448A')\n",
    "plt.axis('off')\n",
    "plt.figure(figsize = (10, 10))"
   ]
  },
  {
   "cell_type": "code",
   "execution_count": 67,
   "metadata": {},
   "outputs": [
    {
     "name": "stdout",
     "output_type": "stream",
     "text": [
      "\tThe number of nodes connected to KingJames: 2\n",
      "\n"
     ]
    }
   ],
   "source": [
    "print(\"\\tThe number of nodes connected to KingJames: \" + \n",
    "      str(len(G.neighbors(2))) +  \"\\n\")"
   ]
  },
  {
   "cell_type": "markdown",
   "metadata": {},
   "source": [
    "[Conclusion to Network section]***************************************\n",
    "\n",
    "The eccentricity of a node v is the maximum distance from v to all other nodes in G. The radius is the minimum eccentricity. The diameter is the maximum eccentricity.\n",
    "\n",
    "The degree and node calculations were verified by the graph projection. A highly connected node has a higher degree and greater number of edges."
   ]
  },
  {
   "cell_type": "markdown",
   "metadata": {},
   "source": [
    "### Part 6: Conclusion\n",
    "\n",
    "[Brief summary of each section; explanation of what we learned; comparison to what we predicted; technical and conceptual challenges we faced] \n"
   ]
  }
 ],
 "metadata": {
  "kernelspec": {
   "display_name": "Python 3",
   "language": "python",
   "name": "python3"
  },
  "language_info": {
   "codemirror_mode": {
    "name": "ipython",
    "version": 3
   },
   "file_extension": ".py",
   "mimetype": "text/x-python",
   "name": "python",
   "nbconvert_exporter": "python",
   "pygments_lexer": "ipython3",
   "version": "3.6.1"
  }
 },
 "nbformat": 4,
 "nbformat_minor": 2
}
